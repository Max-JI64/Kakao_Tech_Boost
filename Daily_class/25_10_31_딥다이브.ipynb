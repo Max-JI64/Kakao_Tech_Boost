{
  "nbformat": 4,
  "nbformat_minor": 0,
  "metadata": {
    "colab": {
      "provenance": [],
      "authorship_tag": "ABX9TyPtxLJaBsUc2Z7MytVelChA",
      "include_colab_link": true
    },
    "kernelspec": {
      "name": "python3",
      "display_name": "Python 3"
    },
    "language_info": {
      "name": "python"
    }
  },
  "cells": [
    {
      "cell_type": "markdown",
      "metadata": {
        "id": "view-in-github",
        "colab_type": "text"
      },
      "source": [
        "<a href=\"https://colab.research.google.com/github/Max-JI64/Kakao_Tech_Bootcamp/blob/main/Daily_class/25_10_31_%EB%94%A5%EB%8B%A4%EC%9D%B4%EB%B8%8C.ipynb\" target=\"_parent\"><img src=\"https://colab.research.google.com/assets/colab-badge.svg\" alt=\"Open In Colab\"/></a>"
      ]
    },
    {
      "cell_type": "markdown",
      "source": [
        "- 수학에서의) 함수란 무엇인가?\n",
        "- 벡터공간이란 무엇인가?\n",
        "- 거리공간이란 무엇인가?\n",
        "- 베이즈 정리(제일 중요): 매일 베이즈 정리를 떠올리고 자기가 이해하고 있는지 체크하세요. 안되면 바로 복습!\n",
        "- 컨볼루션(합성곱)\n",
        "    - 푸리에 해석(급수, 변환): 주기성(반복, 패턴) → 신호 처리, 음성 처리\n",
        "- 그레이디언트(경사, 기울기)\n",
        "    - 방향도함수\n",
        "    - 편미분\n",
        "- (교재에는 없었지만 그레이디언트와 관련된) 컬(curl)과 다이버전스(divergence)"
      ],
      "metadata": {
        "id": "Xqp4QsLYb-V_"
      }
    },
    {
      "cell_type": "markdown",
      "source": [
        "# 1. 수학에서의 함수란 무엇인가\n",
        "1. [Function](https://en.wikipedia.org/wiki/Function)  \n",
        "-  by.WIKIPEDIA  \n",
        "위키피디아에는 여러 분야에서 정의된 Function이 보인다  \n",
        "\n",
        "2. [Function (computer programming)](https://en.wikipedia.org/wiki/Function_(computer_programming))\n",
        "-  by.WIKIPEDIA  \n",
        "컴퓨터 프로그래밍에서의 함수는  \n",
        "잘 정의된 `인터페이스`와 `동작`을 갖고,  \n",
        "여러번 `호출`될 수 있는 소프트웨어 논리의 `호출 가능 단위`이다.  \n",
        "즉 `특정 명령 집합`을 수행하고 필요시 값을 `반환`하는 코드 블록이다.\n",
        "\n",
        "3. [Function (mathematics)](https://en.wikipedia.org/wiki/Function_(mathematics))\n",
        "- by.WIKIPEDIA  \n",
        "수학에서 집합 $X$(정의역, domain)에서 집합 $Y$(공역, codomain)로 가는 함수$f$는  \n",
        "$X$의 각 원소에 대해 $Y$의 원소를 정확히 하나씩 할당한다.  \n",
        "즉 함수는 `입력값`에 대해 단 하나의 `출력값`을 대응시키는 관계를 나타낸다."
      ],
      "metadata": {
        "id": "_k_83Tvzc2RC"
      }
    },
    {
      "cell_type": "markdown",
      "source": [
        "# 2. 벡터 공간, 거리 공간이란 무엇인가"
      ],
      "metadata": {
        "id": "tUXIgY_bfhUE"
      }
    },
    {
      "cell_type": "markdown",
      "source": [
        "1. [Vector space](https://en.wikipedia.org/wiki/Vector_space)  \n",
        "- by.WIKIPEDIA  \n",
        "선형 공간(linear space)이라고도 불림  \n",
        "`벡터`들을 더하고 `스칼라`를 곱할 수 있는 집합  \n",
        "벡터의 방향과 크기의 비가 정의된 공간\n",
        "\n",
        "2. [Metric space](https://en.wikipedia.org/wiki/Metric_space)\n",
        "- by.WIKIPEDIA  \n",
        "두 점 사이의 거리가 정의된 공간  \n",
        "이것은 거리 함수를 만족하는 집합$X$과 그 위에 정의된 거리 함수 $d$의 쌍 $(X, d)$이다\n",
        "\n",
        "3. [거리 함수](https://ko.wikipedia.org/wiki/%EA%B1%B0%EB%A6%AC_%ED%95%A8%EC%88%98)\n",
        " - by.위키백과  \n",
        "함수 $d: X \\times X \\to \\mathbb{R}$  \n",
        "$\\mathbb{R}$은 음수가 아닌 실수 집합 $[0, \\infty)$  \n",
        "$d(x, y) = 0 \\iff x = y$ [식별불가능자 동일성 원리](https://ko.wikipedia.org/wiki/%EC%8B%9D%EB%B3%84%EB%B6%88%EA%B0%80%EB%8A%A5%EC%9E%90_%EB%8F%99%EC%9D%BC%EC%84%B1_%EC%9B%90%EB%A6%AC)   \n",
        "$d(x, y) = d(y, x)$ [대칭성](https://ko.wikipedia.org/wiki/%EB%8C%80%EC%B9%AD_%ED%95%A8%EC%88%98)  \n",
        "$d(x, y) \\leq d(x, z) + d(z, y)$ [삼각 부등식](https://ko.wikipedia.org/wiki/%EC%82%BC%EA%B0%81_%EB%B6%80%EB%93%B1%EC%8B%9D)  \n",
        "\n",
        "벡터공간에서 거리를 정의할 수 있음  \n",
        "예 : $d(x,y)=∥x−y∥^2​$ (유클리드 거리)\n"
      ],
      "metadata": {
        "id": "fZOzdRMYgG1Z"
      }
    },
    {
      "cell_type": "markdown",
      "source": [
        "# 3. 베이즈 정리\n",
        "\n",
        "- [베이지안 확률과 AI의 비밀: 데이터로 더 똑똑해지는 인공지능의 핵심 원리](https://community.programmers.co.kr/post/11518)  \n",
        "`베이지안 확률`은 사전 확률에 새로운 증거를 반영하여 업데이트 하는 방식\n",
        "- [RAG-Sequence와 RAG-Token 모델의 수식과 차이](https://data-scientist-jeong.tistory.com/47)  \n",
        "`RAG`에서의 베이지안"
      ],
      "metadata": {
        "id": "EkV3CsZ0lijQ"
      }
    },
    {
      "cell_type": "markdown",
      "source": [
        "## 베이지안 확률은 업데이트가 가능하다  \n",
        "상황 1 -> 상황 2  \n",
        "상황 2의 확률은 상황 1에 따라 달라진다"
      ],
      "metadata": {
        "id": "NfE_jWVcvoXp"
      }
    },
    {
      "cell_type": "markdown",
      "source": [
        "### 상황이 발생하기 전  \n",
        "지금까지 수많은 게임이 반복되었다.\n",
        "따라서 과거의 데이터(사전확률, 가능도)를 갖고 있다.  \n",
        "현재 새로운 게임이 시작될려고 한다.  \n",
        "우리는 특정한 한 사람에 대해 사건 A(생존)가 발생하는지 보고자 한다.  \n",
        "우리는 이 결과를 예측하고자 한다."
      ],
      "metadata": {
        "id": "Id0xi5B475zz"
      }
    },
    {
      "cell_type": "markdown",
      "source": [
        "### 상황 1\n",
        "- 사건 A : 생존한다\n",
        "- 사건 B : 게임을 사전에 알았다  \n",
        "\n",
        "#### 🔴 사전에 알고 있은 정보들  \n",
        "사건 A에 대한 조건부 확률이다.  \n",
        "해당 인물에 대해 아무것도 모른다, 그러나 과거의 사례를 통해 평균 생존율은 안다.  \n",
        "이 인물도 이 평균 생존율과 동일할꺼다라고 생각한다.\n",
        "\n",
        "- 사전 확률(Prior) : $P(A)$ = 0.5  \n",
        "사건 A가 일어날 확률\n",
        "게임에서 생존할 확률은 0.5이다  \n",
        "=> $P(A^c) = 0.5$  \n",
        "\n",
        "- 가능도(Likelihood) : $P(B|A)$  \n",
        "과거 수많은 데이터를 통해 얻은 규칙 또는 경향성  \n",
        "결과가 원인에 얼만큼 영향을 미쳤는가  \n",
        "사건 A가 실제로 일어났을 때, 새로운 사건 B가 일어났을 확률, 가능성 (생존을 하였을 경우, 그 사람이 게임을 알았었던 사람이였을 확률)  \n",
        "과거의 사례를 통해 우리는 이 가능성이 얼만큼 있었는지를 알고 있다.  \n",
        "$P(B|A) = 0.3$  \n",
        "$P(B|A^c) = 0.1$\n",
        "\n",
        "#### 🔵 알아내야 하는 정보들\n",
        "- 증거(Evidence) : $P(B)$  \n",
        "지금 막 알아낸(이전에는 몰랐던) 특정 개인에 대한 사실  \n",
        "사건 B가 실제로 일어난 확률  \n",
        "\"방금 이놈이 옆 사람에게서 게임에 대한 설명을 들었었다!!\"  \n",
        "$P(B) = P(A) \\times P(B|A) + P(A^c) \\times P(B|A^c)$  \n",
        "$P(B)$ = (0.5 × 0.3) + (0.5 × 0.1) = 0.15 + 0.05 = 0.2  \n",
        "\n",
        "- 사후확률(Posterior) : $P(A|B)$  \n",
        "게임을 알아낸 자가 생존할 확률이 사전확률과 얼만큼 차이가 있는지 확인하고 싶다  \n",
        "**우리가 구하고 싶은 확률**  \n",
        "\"이 사람은 게임에 대한 설명을 들었어. 그러면 처음의 평균 생존률과 얼만큼 차이가 있을까?\"  \n",
        "⚠️주의할 점 : 이것은 게임에 대해 **몰랐을** 경우와 비교하는 것이 아니다.⚠️  \n",
        "게임에 대해 몰랐다는 것은 사건$B^c$이다.  \n",
        "마치 슈뢰딩거의 고양이처럼, 해당 사건(B) 자체에 대해 몰랐을 경우(사전 확률 $P(A)$)에 대해서랑 비교하는 것이다.  \n",
        "$P(A|B) = \\frac{P(B|A)P(A)}{P(B)}$  \n",
        "$P(A|B) = \\frac{0.5 \\times 0.3}{0.2} = \\frac{0.15}{0.2} = 0.75$"
      ],
      "metadata": {
        "id": "rTszJ_8dvvNr"
      }
    },
    {
      "cell_type": "markdown",
      "source": [
        "이때 상황 1의 사후 확률은 상황 2의 사전확률로 업데이트 된다"
      ],
      "metadata": {
        "id": "1L-5a2Di31Qc"
      }
    },
    {
      "cell_type": "markdown",
      "source": [
        "### 상황 2\n",
        "- 사건 A : 생존한다\n",
        "- 사건 B : 게임을 사전에 알았다  \n",
        "- 사건 C : 사전에 세모 모양의 달고나를 선택했다\n",
        "\n",
        "#### 🔴 사전에 알고 있은 정보들\n",
        "- 새로운 사전 확률(Prior) : $P'(A) = P(A|B) = 0.75$\n",
        "\n",
        "- 새로운 가능도(Likelihood) : $P(C|A \\cap B) = P(C|A)$  \n",
        "사건 C는 무조건 사건 B가 일어나야만 한다 (게임을 미리 알아야지만 세모 모양의 달고나가 있다는 것을 알고 이를 선택할 수 있다)  \n",
        "따라서 가능도는 $P(C|A \\cap B)$이다.  \n",
        "1. $P(C|A \\cap B) = 0.8$\n",
        "\n",
        "\n",
        "#### 🔵 알아내야 하는 정보들\n",
        "\n",
        "- 새로운 증거(Evidence) = $P(C)$ ❌  \n",
        "위와 마찬가지로 새로운 증거는 $P(C|B)$이다.  \n",
        "1. $P(C|B) = P(C|A \\cap B) \\cdot P(A|B) + P(C|A^c \\cap B) \\cdot P(A^c|B)$\n",
        "2. $P(C|A \\cap B) \\cdot P(A|B) = 0.8 \\times 0.75 = 0.6$\n",
        "3. $P(C|A^c \\cap B) \\cdot P(A^c|B) = P(C|A^c) \\cdot P(A^c|B) = 0.2 \\times 0.25 = 0.05$\n",
        "\n",
        "- 새로운 사후확률(Posterior) : $P(A|B \\cap C)$  \n",
        "1. $P(A|B \\cap C) = \\frac{P(C|A \\cap B) \\cdot {P(A|B)}}{P(C|B)}$\n",
        "2. 0.6 / (0.6 + 0.05) = 약 0.923"
      ],
      "metadata": {
        "id": "PWdu-7lx3ogU"
      }
    },
    {
      "cell_type": "code",
      "source": [],
      "metadata": {
        "id": "MY5RMWbGc4cI"
      },
      "execution_count": null,
      "outputs": []
    }
  ]
}